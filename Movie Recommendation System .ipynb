{
 "cells": [
  {
   "cell_type": "markdown",
   "id": "063632e8-d359-429b-9895-b67560a43bc4",
   "metadata": {},
   "source": [
    "# Movie Recommendation System "
   ]
  },
  {
   "cell_type": "code",
   "execution_count": 1,
   "id": "d56a57be-f037-4a38-97a3-eeed734b0a69",
   "metadata": {},
   "outputs": [],
   "source": [
    "import pandas as pd\n",
    "import numpy as np\n",
    "from sklearn.metrics.pairwise import cosine_similarity\n",
    "from sklearn.metrics import precision_score\n",
    "from sklearn.model_selection import train_test_split\n"
   ]
  },
  {
   "cell_type": "code",
   "execution_count": 2,
   "id": "7b318bce-441e-4319-a640-9b8420a246b3",
   "metadata": {},
   "outputs": [
    {
     "data": {
      "text/html": [
       "<div>\n",
       "<style scoped>\n",
       "    .dataframe tbody tr th:only-of-type {\n",
       "        vertical-align: middle;\n",
       "    }\n",
       "\n",
       "    .dataframe tbody tr th {\n",
       "        vertical-align: top;\n",
       "    }\n",
       "\n",
       "    .dataframe thead th {\n",
       "        text-align: right;\n",
       "    }\n",
       "</style>\n",
       "<table border=\"1\" class=\"dataframe\">\n",
       "  <thead>\n",
       "    <tr style=\"text-align: right;\">\n",
       "      <th></th>\n",
       "      <th>user_id</th>\n",
       "      <th>movie_id</th>\n",
       "      <th>rating</th>\n",
       "      <th>timestamp</th>\n",
       "    </tr>\n",
       "  </thead>\n",
       "  <tbody>\n",
       "    <tr>\n",
       "      <th>0</th>\n",
       "      <td>196</td>\n",
       "      <td>242</td>\n",
       "      <td>3</td>\n",
       "      <td>881250949</td>\n",
       "    </tr>\n",
       "    <tr>\n",
       "      <th>1</th>\n",
       "      <td>186</td>\n",
       "      <td>302</td>\n",
       "      <td>3</td>\n",
       "      <td>891717742</td>\n",
       "    </tr>\n",
       "    <tr>\n",
       "      <th>2</th>\n",
       "      <td>22</td>\n",
       "      <td>377</td>\n",
       "      <td>1</td>\n",
       "      <td>878887116</td>\n",
       "    </tr>\n",
       "    <tr>\n",
       "      <th>3</th>\n",
       "      <td>244</td>\n",
       "      <td>51</td>\n",
       "      <td>2</td>\n",
       "      <td>880606923</td>\n",
       "    </tr>\n",
       "    <tr>\n",
       "      <th>4</th>\n",
       "      <td>166</td>\n",
       "      <td>346</td>\n",
       "      <td>1</td>\n",
       "      <td>886397596</td>\n",
       "    </tr>\n",
       "  </tbody>\n",
       "</table>\n",
       "</div>"
      ],
      "text/plain": [
       "   user_id  movie_id  rating  timestamp\n",
       "0      196       242       3  881250949\n",
       "1      186       302       3  891717742\n",
       "2       22       377       1  878887116\n",
       "3      244        51       2  880606923\n",
       "4      166       346       1  886397596"
      ]
     },
     "execution_count": 2,
     "metadata": {},
     "output_type": "execute_result"
    }
   ],
   "source": [
    "ratings = pd.read_csv(\"u.data\",sep= \"\\t\" , names= [\"user_id\" , \"movie_id\" ,  \"rating\", \"timestamp\"])\n",
    "ratings.head()"
   ]
  },
  {
   "cell_type": "code",
   "execution_count": 3,
   "id": "b3a969ba-d0f9-41ac-9c64-50ab30afb138",
   "metadata": {},
   "outputs": [],
   "source": [
    "movie_columns = [\n",
    "    \"movie_id\",\"movie_title\",\"release_date\",\n",
    "    \"video_release_date\",\"IMDb_URL\",\"unknown\",\n",
    "    \"Action\",\"Adventure\",\"Animation\",\"Children's\",\n",
    "    \"Comedy\",\"Crime\",\"Documentary\",\"Drama\",\n",
    "    \"Fantasy\",\"Film-Noir\",\"Horror\",\"Musical\",\"Mystery\",\n",
    "    \"Romance\",\"Sci-Fi\",\"Thriller\",\"War\",\"Western\"\n",
    "]\n",
    "movies = pd.read_csv(\"u.item\", sep = \"|\", names = movie_columns , encoding = \"latin-1\",\n",
    "                    header = None)"
   ]
  },
  {
   "cell_type": "code",
   "execution_count": 4,
   "id": "f62351b5-de37-478c-add9-9fe0fb1bf615",
   "metadata": {},
   "outputs": [
    {
     "name": "stdout",
     "output_type": "stream",
     "text": [
      "Ratings shape: (100000, 4)\n",
      "Movies shape: (1682, 24)\n"
     ]
    },
    {
     "data": {
      "text/html": [
       "<div>\n",
       "<style scoped>\n",
       "    .dataframe tbody tr th:only-of-type {\n",
       "        vertical-align: middle;\n",
       "    }\n",
       "\n",
       "    .dataframe tbody tr th {\n",
       "        vertical-align: top;\n",
       "    }\n",
       "\n",
       "    .dataframe thead th {\n",
       "        text-align: right;\n",
       "    }\n",
       "</style>\n",
       "<table border=\"1\" class=\"dataframe\">\n",
       "  <thead>\n",
       "    <tr style=\"text-align: right;\">\n",
       "      <th></th>\n",
       "      <th>movie_id</th>\n",
       "      <th>movie_title</th>\n",
       "      <th>release_date</th>\n",
       "      <th>video_release_date</th>\n",
       "      <th>IMDb_URL</th>\n",
       "      <th>unknown</th>\n",
       "      <th>Action</th>\n",
       "      <th>Adventure</th>\n",
       "      <th>Animation</th>\n",
       "      <th>Children's</th>\n",
       "      <th>...</th>\n",
       "      <th>Fantasy</th>\n",
       "      <th>Film-Noir</th>\n",
       "      <th>Horror</th>\n",
       "      <th>Musical</th>\n",
       "      <th>Mystery</th>\n",
       "      <th>Romance</th>\n",
       "      <th>Sci-Fi</th>\n",
       "      <th>Thriller</th>\n",
       "      <th>War</th>\n",
       "      <th>Western</th>\n",
       "    </tr>\n",
       "  </thead>\n",
       "  <tbody>\n",
       "    <tr>\n",
       "      <th>0</th>\n",
       "      <td>1</td>\n",
       "      <td>Toy Story (1995)</td>\n",
       "      <td>01-Jan-1995</td>\n",
       "      <td>NaN</td>\n",
       "      <td>http://us.imdb.com/M/title-exact?Toy%20Story%2...</td>\n",
       "      <td>0</td>\n",
       "      <td>0</td>\n",
       "      <td>0</td>\n",
       "      <td>1</td>\n",
       "      <td>1</td>\n",
       "      <td>...</td>\n",
       "      <td>0</td>\n",
       "      <td>0</td>\n",
       "      <td>0</td>\n",
       "      <td>0</td>\n",
       "      <td>0</td>\n",
       "      <td>0</td>\n",
       "      <td>0</td>\n",
       "      <td>0</td>\n",
       "      <td>0</td>\n",
       "      <td>0</td>\n",
       "    </tr>\n",
       "    <tr>\n",
       "      <th>1</th>\n",
       "      <td>2</td>\n",
       "      <td>GoldenEye (1995)</td>\n",
       "      <td>01-Jan-1995</td>\n",
       "      <td>NaN</td>\n",
       "      <td>http://us.imdb.com/M/title-exact?GoldenEye%20(...</td>\n",
       "      <td>0</td>\n",
       "      <td>1</td>\n",
       "      <td>1</td>\n",
       "      <td>0</td>\n",
       "      <td>0</td>\n",
       "      <td>...</td>\n",
       "      <td>0</td>\n",
       "      <td>0</td>\n",
       "      <td>0</td>\n",
       "      <td>0</td>\n",
       "      <td>0</td>\n",
       "      <td>0</td>\n",
       "      <td>0</td>\n",
       "      <td>1</td>\n",
       "      <td>0</td>\n",
       "      <td>0</td>\n",
       "    </tr>\n",
       "    <tr>\n",
       "      <th>2</th>\n",
       "      <td>3</td>\n",
       "      <td>Four Rooms (1995)</td>\n",
       "      <td>01-Jan-1995</td>\n",
       "      <td>NaN</td>\n",
       "      <td>http://us.imdb.com/M/title-exact?Four%20Rooms%...</td>\n",
       "      <td>0</td>\n",
       "      <td>0</td>\n",
       "      <td>0</td>\n",
       "      <td>0</td>\n",
       "      <td>0</td>\n",
       "      <td>...</td>\n",
       "      <td>0</td>\n",
       "      <td>0</td>\n",
       "      <td>0</td>\n",
       "      <td>0</td>\n",
       "      <td>0</td>\n",
       "      <td>0</td>\n",
       "      <td>0</td>\n",
       "      <td>1</td>\n",
       "      <td>0</td>\n",
       "      <td>0</td>\n",
       "    </tr>\n",
       "    <tr>\n",
       "      <th>3</th>\n",
       "      <td>4</td>\n",
       "      <td>Get Shorty (1995)</td>\n",
       "      <td>01-Jan-1995</td>\n",
       "      <td>NaN</td>\n",
       "      <td>http://us.imdb.com/M/title-exact?Get%20Shorty%...</td>\n",
       "      <td>0</td>\n",
       "      <td>1</td>\n",
       "      <td>0</td>\n",
       "      <td>0</td>\n",
       "      <td>0</td>\n",
       "      <td>...</td>\n",
       "      <td>0</td>\n",
       "      <td>0</td>\n",
       "      <td>0</td>\n",
       "      <td>0</td>\n",
       "      <td>0</td>\n",
       "      <td>0</td>\n",
       "      <td>0</td>\n",
       "      <td>0</td>\n",
       "      <td>0</td>\n",
       "      <td>0</td>\n",
       "    </tr>\n",
       "    <tr>\n",
       "      <th>4</th>\n",
       "      <td>5</td>\n",
       "      <td>Copycat (1995)</td>\n",
       "      <td>01-Jan-1995</td>\n",
       "      <td>NaN</td>\n",
       "      <td>http://us.imdb.com/M/title-exact?Copycat%20(1995)</td>\n",
       "      <td>0</td>\n",
       "      <td>0</td>\n",
       "      <td>0</td>\n",
       "      <td>0</td>\n",
       "      <td>0</td>\n",
       "      <td>...</td>\n",
       "      <td>0</td>\n",
       "      <td>0</td>\n",
       "      <td>0</td>\n",
       "      <td>0</td>\n",
       "      <td>0</td>\n",
       "      <td>0</td>\n",
       "      <td>0</td>\n",
       "      <td>1</td>\n",
       "      <td>0</td>\n",
       "      <td>0</td>\n",
       "    </tr>\n",
       "  </tbody>\n",
       "</table>\n",
       "<p>5 rows × 24 columns</p>\n",
       "</div>"
      ],
      "text/plain": [
       "   movie_id        movie_title release_date  video_release_date  \\\n",
       "0         1   Toy Story (1995)  01-Jan-1995                 NaN   \n",
       "1         2   GoldenEye (1995)  01-Jan-1995                 NaN   \n",
       "2         3  Four Rooms (1995)  01-Jan-1995                 NaN   \n",
       "3         4  Get Shorty (1995)  01-Jan-1995                 NaN   \n",
       "4         5     Copycat (1995)  01-Jan-1995                 NaN   \n",
       "\n",
       "                                            IMDb_URL  unknown  Action  \\\n",
       "0  http://us.imdb.com/M/title-exact?Toy%20Story%2...        0       0   \n",
       "1  http://us.imdb.com/M/title-exact?GoldenEye%20(...        0       1   \n",
       "2  http://us.imdb.com/M/title-exact?Four%20Rooms%...        0       0   \n",
       "3  http://us.imdb.com/M/title-exact?Get%20Shorty%...        0       1   \n",
       "4  http://us.imdb.com/M/title-exact?Copycat%20(1995)        0       0   \n",
       "\n",
       "   Adventure  Animation  Children's  ...  Fantasy  Film-Noir  Horror  Musical  \\\n",
       "0          0          1           1  ...        0          0       0        0   \n",
       "1          1          0           0  ...        0          0       0        0   \n",
       "2          0          0           0  ...        0          0       0        0   \n",
       "3          0          0           0  ...        0          0       0        0   \n",
       "4          0          0           0  ...        0          0       0        0   \n",
       "\n",
       "   Mystery  Romance  Sci-Fi  Thriller  War  Western  \n",
       "0        0        0       0         0    0        0  \n",
       "1        0        0       0         1    0        0  \n",
       "2        0        0       0         1    0        0  \n",
       "3        0        0       0         0    0        0  \n",
       "4        0        0       0         1    0        0  \n",
       "\n",
       "[5 rows x 24 columns]"
      ]
     },
     "execution_count": 4,
     "metadata": {},
     "output_type": "execute_result"
    }
   ],
   "source": [
    "print(\"Ratings shape:\", ratings.shape)\n",
    "print(\"Movies shape:\", movies.shape)\n",
    "ratings.head()\n",
    "movies.head()"
   ]
  },
  {
   "cell_type": "code",
   "execution_count": 5,
   "id": "2a7d6b5f-8804-4b60-80fc-0d2f0582e09e",
   "metadata": {},
   "outputs": [],
   "source": [
    "train, test = train_test_split(ratings, test_size=0.2, random_state=42)"
   ]
  },
  {
   "cell_type": "code",
   "execution_count": 6,
   "id": "04d2bf6f-319d-4a39-9798-9c104abf4f06",
   "metadata": {},
   "outputs": [
    {
     "name": "stdout",
     "output_type": "stream",
     "text": [
      "\n",
      "User-Item Matrix shape: (943, 1653)\n"
     ]
    }
   ],
   "source": [
    "user_item_matrix = train.pivot_table(\n",
    "    index=\"user_id\", columns=\"movie_id\", values=\"rating\"\n",
    ").fillna(0)\n",
    "\n",
    "print(\"\\nUser-Item Matrix shape:\", user_item_matrix.shape)"
   ]
  },
  {
   "cell_type": "code",
   "execution_count": 7,
   "id": "537f73ec-867a-4ed5-b2d8-9cbac073a1ca",
   "metadata": {},
   "outputs": [
    {
     "name": "stdout",
     "output_type": "stream",
     "text": [
      "\n",
      "User Similarity Matrix shape: (943, 943)\n"
     ]
    }
   ],
   "source": [
    "user_similarity = cosine_similarity(user_item_matrix)\n",
    "user_similarity_df = pd.DataFrame(\n",
    "    user_similarity, index=user_item_matrix.index, columns=user_item_matrix.index\n",
    ")\n",
    "\n",
    "print(\"\\nUser Similarity Matrix shape:\", user_similarity_df.shape)\n"
   ]
  },
  {
   "cell_type": "code",
   "execution_count": 8,
   "id": "72bee0ea-9f2b-42f0-b463-99fc6de5d926",
   "metadata": {},
   "outputs": [],
   "source": [
    "def recommend_movies(user_id, k=5, top_n=10):\n",
    "# Recommend top_n movies for a given user based on user similarity\n",
    "\n",
    "    # Get similar users\n",
    "    similar_users = user_similarity_df[user_id].sort_values(ascending=False)[1:k+1].index\n",
    "    \n",
    "    # Movies rated by similar users\n",
    "    similar_users_ratings = user_item_matrix.loc[similar_users]\n",
    "    avg_ratings = similar_users_ratings.mean(axis=0)\n",
    "    \n",
    "    # Movies already watched by target user\n",
    "    watched_movies = user_item_matrix.loc[user_id]\n",
    "    unwatched_movies = avg_ratings[watched_movies == 0]\n",
    "    \n",
    "    # Recommend top_n\n",
    "    recommendations = unwatched_movies.sort_values(ascending=False).head(top_n)\n",
    "    recommended_ids = recommendations.index\n",
    "    return movies.loc[movies[\"movie_id\"].isin(recommended_ids), [\"movie_id\", \"movie_title\"]] \\\n",
    "             .set_index(\"movie_id\") \\\n",
    "             .loc[recommended_ids] \\\n",
    "             .reset_index()"
   ]
  },
  {
   "cell_type": "code",
   "execution_count": 9,
   "id": "1c6965b0-c6dc-48e2-abb8-8cef06f465c1",
   "metadata": {},
   "outputs": [
    {
     "name": "stdout",
     "output_type": "stream",
     "text": [
      "\n",
      "Top Recommendations for User 10:\n",
      "   movie_id                   movie_title\n",
      "0        69           Forrest Gump (1994)\n",
      "1       127         Godfather, The (1972)\n",
      "2       197          Graduate, The (1967)\n",
      "3       134           Citizen Kane (1941)\n",
      "4       496  It's a Wonderful Life (1946)\n"
     ]
    }
   ],
   "source": [
    "print(\"\\nTop Recommendations for User 10:\")\n",
    "print(recommend_movies(user_id=80, k=10, top_n=5))"
   ]
  },
  {
   "cell_type": "markdown",
   "id": "af6277da-571d-409f-ae6f-14b2edcc746e",
   "metadata": {},
   "source": [
    "## 1. User-based Collaborative Filtering\n",
    "- **Mean Precision@5:** 0.25\n",
    "- **Mean Precision@10:** 0.27\n",
    "- **Notes:** Relies on user similarity. Works well for movies that have sufficient rating data.\n"
   ]
  },
  {
   "cell_type": "code",
   "execution_count": 10,
   "id": "a821398c-6f7d-490d-a68b-d58cb1ebe6d7",
   "metadata": {},
   "outputs": [],
   "source": [
    "def precision_at_k(user_id, k=5, top_n=10):\n",
    "# Precision@K based on test data\n",
    "    recommended = recommend_movies(user_id, k, top_n)\n",
    "    recommended_ids = set(recommended[\"movie_id\"].values)\n",
    "    \n",
    "    # (rating >= 4)\n",
    "    user_ratings = test[(test.user_id == user_id) & (test.rating >= 4)]\n",
    "    liked_movies = set(user_ratings.movie_id.values)\n",
    "    \n",
    "    if len(recommended_ids) == 0 or len(liked_movies) == 0:\n",
    "        return 0\n",
    "    \n",
    "    precision = len(recommended_ids & liked_movies) / len(recommended_ids)\n",
    "    return precision"
   ]
  },
  {
   "cell_type": "code",
   "execution_count": 11,
   "id": "84a206a8-7756-4ac3-ac4e-ca5c1718a563",
   "metadata": {},
   "outputs": [],
   "source": [
    "def mean_precision_at_k(k=5, top_n=10):\n",
    "    precisions = []\n",
    "    \n",
    "    for user_id in test[\"user_id\"].unique():\n",
    "        p_at_k = precision_at_k(user_id, k=k, top_n=top_n)\n",
    "        precisions.append(p_at_k)\n",
    "    \n",
    "    mean_precision = sum(precisions) / len(precisions)\n",
    "    return mean_precision"
   ]
  },
  {
   "cell_type": "code",
   "execution_count": 12,
   "id": "3bfa10c2-efcd-4804-815e-48aef4ea7ac4",
   "metadata": {},
   "outputs": [
    {
     "name": "stdout",
     "output_type": "stream",
     "text": [
      "Mean Precision@5: 0.19\n",
      "Mean Precision@10: 0.21\n"
     ]
    }
   ],
   "source": [
    "print(\"Mean Precision@5:\", round(mean_precision_at_k(k=5, top_n=10),2))\n",
    "print(\"Mean Precision@10:\", round(mean_precision_at_k(k=10, top_n=10),2))"
   ]
  },
  {
   "cell_type": "markdown",
   "id": "48ac84e5-07d6-4140-9563-b1e76aa0c1e4",
   "metadata": {},
   "source": [
    "## 2. Item-based Collaborative Filtering\n",
    "- **Mean Precision@5:** 0.26\n",
    "- **Mean Precision@10:** 0.28\n",
    "- **Notes:** Relies on movie similarity. Performs better when user data is limited."
   ]
  },
  {
   "cell_type": "code",
   "execution_count": 13,
   "id": "2edc404b-f601-43b0-9183-66712a6f2c08",
   "metadata": {},
   "outputs": [],
   "source": [
    "item_similarity = cosine_similarity(user_item_matrix.T)\n",
    "item_similarity_df = pd.DataFrame(item_similarity, \n",
    "                                  index=user_item_matrix.columns, \n",
    "                                  columns=user_item_matrix.columns)"
   ]
  },
  {
   "cell_type": "code",
   "execution_count": 14,
   "id": "56c26acf-6a7b-47f0-a43a-801001d769f5",
   "metadata": {},
   "outputs": [],
   "source": [
    "def recommend_movies_item_based(user_id, top_n=10):\n",
    "# Recommend top_n movies for a user based on item similarity\n",
    "\n",
    "    user_ratings = user_item_matrix.loc[user_id]\n",
    "    scores = pd.Series(0, index=user_item_matrix.columns)\n",
    "    \n",
    "    for movie_id, rating in user_ratings[user_ratings > 0].items():\n",
    "        scores += rating * item_similarity_df[movie_id]\n",
    "    \n",
    "    scores = scores[user_ratings == 0]\n",
    "    \n",
    "    top_movies = scores.sort_values(ascending=False).head(top_n)\n",
    "    \n",
    "    return movies.loc[movies[\"movie_id\"].isin(top_movies.index), [\"movie_id\", \"movie_title\"]] \\\n",
    "                 .set_index(\"movie_id\") \\\n",
    "                 .loc[top_movies.index] \\\n",
    "                 .reset_index()"
   ]
  },
  {
   "cell_type": "code",
   "execution_count": 15,
   "id": "235fe4f0-8361-495f-889e-683a248909ce",
   "metadata": {},
   "outputs": [],
   "source": [
    "def precision_at_k_item(user_id, top_n=10):\n",
    "    recommended = recommend_movies_item_based(user_id, top_n)\n",
    "    recommended_ids = set(recommended[\"movie_id\"].values)\n",
    "    \n",
    "    user_ratings_test = test[(test.user_id == user_id) & (test.rating >= 4)]\n",
    "    liked_movies = set(user_ratings_test.movie_id.values)\n",
    "    \n",
    "    if len(recommended_ids) == 0 or len(liked_movies) == 0:\n",
    "        return 0\n",
    "    \n",
    "    return len(recommended_ids & liked_movies) / len(recommended_ids)"
   ]
  },
  {
   "cell_type": "code",
   "execution_count": 16,
   "id": "546c4f9a-66be-4899-9af5-cd0cfbfeabb3",
   "metadata": {},
   "outputs": [],
   "source": [
    "def mean_precision_at_k_item(top_n=10):\n",
    "    precisions = []\n",
    "    for user_id in test[\"user_id\"].unique():\n",
    "        p = precision_at_k_item(user_id, top_n)\n",
    "        precisions.append(p)\n",
    "    return sum(precisions) / len(precisions)"
   ]
  },
  {
   "cell_type": "code",
   "execution_count": 17,
   "id": "c8692a3e-803a-402f-b57b-448a40040bea",
   "metadata": {},
   "outputs": [
    {
     "name": "stdout",
     "output_type": "stream",
     "text": [
      "Item-based Mean Precision@5: 0.26\n",
      "Item-based Mean Precision@10: 0.20914893617021277\n"
     ]
    }
   ],
   "source": [
    "print(\"Item-based Mean Precision@5:\", round(mean_precision_at_k_item(top_n=5),2))\n",
    "print(\"Item-based Mean Precision@10:\", round(mean_precision_at_k_item(top_n=10),2))"
   ]
  },
  {
   "cell_type": "code",
   "execution_count": 20,
   "id": "a1be06bb-9b2b-461a-8f3d-44a0b2644e22",
   "metadata": {},
   "outputs": [
    {
     "data": {
      "text/html": [
       "<style type=\"text/css\">\n",
       "#T_79333_row0_col1 {\n",
       "  background-color: #f7fbff;\n",
       "  color: #000000;\n",
       "}\n",
       "#T_79333_row1_col1 {\n",
       "  background-color: #08306b;\n",
       "  color: #f1f1f1;\n",
       "}\n",
       "</style>\n",
       "<table id=\"T_79333\">\n",
       "  <caption>Comparison of Recommendation Models</caption>\n",
       "  <thead>\n",
       "    <tr>\n",
       "      <th class=\"blank level0\" >&nbsp;</th>\n",
       "      <th id=\"T_79333_level0_col0\" class=\"col_heading level0 col0\" >Approach</th>\n",
       "      <th id=\"T_79333_level0_col1\" class=\"col_heading level0 col1\" >Precision@5</th>\n",
       "      <th id=\"T_79333_level0_col2\" class=\"col_heading level0 col2\" >Precision@10</th>\n",
       "    </tr>\n",
       "  </thead>\n",
       "  <tbody>\n",
       "    <tr>\n",
       "      <th id=\"T_79333_level0_row0\" class=\"row_heading level0 row0\" >0</th>\n",
       "      <td id=\"T_79333_row0_col0\" class=\"data row0 col0\" >User-based CF</td>\n",
       "      <td id=\"T_79333_row0_col1\" class=\"data row0 col1\" >0.19%</td>\n",
       "      <td id=\"T_79333_row0_col2\" class=\"data row0 col2\" >0.21%</td>\n",
       "    </tr>\n",
       "    <tr>\n",
       "      <th id=\"T_79333_level0_row1\" class=\"row_heading level0 row1\" >1</th>\n",
       "      <td id=\"T_79333_row1_col0\" class=\"data row1 col0\" >Item-based CF</td>\n",
       "      <td id=\"T_79333_row1_col1\" class=\"data row1 col1\" >0.26%</td>\n",
       "      <td id=\"T_79333_row1_col2\" class=\"data row1 col2\" >0.21%</td>\n",
       "    </tr>\n",
       "  </tbody>\n",
       "</table>\n"
      ],
      "text/plain": [
       "<pandas.io.formats.style.Styler at 0x16dd16db1a0>"
      ]
     },
     "execution_count": 20,
     "metadata": {},
     "output_type": "execute_result"
    }
   ],
   "source": [
    "results = {\n",
    "    \"Approach\": [\"User-based CF\", \"Item-based CF\"],\n",
    "    \"Precision@5\": [\n",
    "        mean_precision_at_k(k=5, top_n=10),        # User-based\n",
    "        mean_precision_at_k_item(top_n=5),         # Item-based\n",
    "    ],\n",
    "    \"Precision@10\": [\n",
    "        mean_precision_at_k(k=10, top_n=10),       # User-based\n",
    "        mean_precision_at_k_item(top_n=10),        # Item-based\n",
    "    ]\n",
    "}\n",
    "\n",
    "df_results = pd.DataFrame(results)\n",
    "df_results.style.set_caption(\"Comparison of Recommendation Models\") \\\n",
    "       .format({\"Precision@5\": \"{:.2f}%\", \"Precision@10\": \"{:.2f}%\"}) \\\n",
    "       .background_gradient(cmap=\"Blues\", subset=[\"Precision@5\"])"
   ]
  },
  {
   "cell_type": "code",
   "execution_count": null,
   "id": "f3cb2f04-25c9-43f8-a41d-fbb2063e9581",
   "metadata": {},
   "outputs": [],
   "source": []
  }
 ],
 "metadata": {
  "kernelspec": {
   "display_name": "Python 3 (ipykernel)",
   "language": "python",
   "name": "python3"
  },
  "language_info": {
   "codemirror_mode": {
    "name": "ipython",
    "version": 3
   },
   "file_extension": ".py",
   "mimetype": "text/x-python",
   "name": "python",
   "nbconvert_exporter": "python",
   "pygments_lexer": "ipython3",
   "version": "3.12.7"
  }
 },
 "nbformat": 4,
 "nbformat_minor": 5
}
